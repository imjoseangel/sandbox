{
 "cells": [
  {
   "cell_type": "code",
   "execution_count": 1,
   "id": "af1932a1",
   "metadata": {},
   "outputs": [],
   "source": [
    "from web3 import Web3"
   ]
  },
  {
   "cell_type": "code",
   "execution_count": 2,
   "id": "9fc4bc50",
   "metadata": {},
   "outputs": [
    {
     "data": {
      "text/plain": [
       "1000000000000000000"
      ]
     },
     "execution_count": 2,
     "metadata": {},
     "output_type": "execute_result"
    }
   ],
   "source": [
    "Web3.toWei(1, 'ether')"
   ]
  },
  {
   "cell_type": "code",
   "execution_count": 3,
   "id": "868646f7",
   "metadata": {},
   "outputs": [
    {
     "data": {
      "text/plain": [
       "Decimal('0.5')"
      ]
     },
     "execution_count": 3,
     "metadata": {},
     "output_type": "execute_result"
    }
   ],
   "source": [
    "Web3.fromWei(500000000, 'gwei')"
   ]
  },
  {
   "cell_type": "code",
   "execution_count": 4,
   "id": "143fc93c",
   "metadata": {},
   "outputs": [],
   "source": [
    "w3 = Web3(Web3.EthereumTesterProvider())"
   ]
  },
  {
   "cell_type": "code",
   "execution_count": 5,
   "id": "d7e1f0c9",
   "metadata": {},
   "outputs": [
    {
     "data": {
      "text/plain": [
       "True"
      ]
     },
     "execution_count": 5,
     "metadata": {},
     "output_type": "execute_result"
    }
   ],
   "source": [
    "w3.isConnected()"
   ]
  },
  {
   "cell_type": "code",
   "execution_count": 6,
   "id": "254f7525",
   "metadata": {},
   "outputs": [
    {
     "data": {
      "text/plain": [
       "['0x7E5F4552091A69125d5DfCb7b8C2659029395Bdf',\n",
       " '0x2B5AD5c4795c026514f8317c7a215E218DcCD6cF',\n",
       " '0x6813Eb9362372EEF6200f3b1dbC3f819671cBA69',\n",
       " '0x1efF47bc3a10a45D4B230B5d10E37751FE6AA718',\n",
       " '0xe1AB8145F7E55DC933d51a18c793F901A3A0b276',\n",
       " '0xE57bFE9F44b819898F47BF37E5AF72a0783e1141',\n",
       " '0xd41c057fd1c78805AAC12B0A94a405c0461A6FBb',\n",
       " '0xF1F6619B38A98d6De0800F1DefC0a6399eB6d30C',\n",
       " '0xF7Edc8FA1eCc32967F827C9043FcAe6ba73afA5c',\n",
       " '0x4CCeBa2d7D2B4fdcE4304d3e09a1fea9fbEb1528']"
      ]
     },
     "execution_count": 6,
     "metadata": {},
     "output_type": "execute_result"
    }
   ],
   "source": [
    "w3.eth.accounts"
   ]
  },
  {
   "cell_type": "code",
   "execution_count": 7,
   "id": "a00addae",
   "metadata": {},
   "outputs": [
    {
     "data": {
      "text/plain": [
       "1000000000000000000000000"
      ]
     },
     "execution_count": 7,
     "metadata": {},
     "output_type": "execute_result"
    }
   ],
   "source": [
    "w3.eth.get_balance(w3.eth.accounts[0])"
   ]
  },
  {
   "cell_type": "code",
   "execution_count": 8,
   "id": "49c81f8c",
   "metadata": {},
   "outputs": [
    {
     "data": {
      "text/plain": [
       "Decimal('1000000')"
      ]
     },
     "execution_count": 8,
     "metadata": {},
     "output_type": "execute_result"
    }
   ],
   "source": [
    "w3.fromWei(1000000000000000000000000, 'ether')"
   ]
  },
  {
   "cell_type": "code",
   "execution_count": 9,
   "id": "d8854d3d",
   "metadata": {},
   "outputs": [
    {
     "data": {
      "text/plain": [
       "AttributeDict({'number': 0,\n",
       " 'hash': HexBytes('0xda3e5055d1f67ead903ea31ce9819cd0df0a7ddda35899dbb53249e3f3db7ad1'),\n",
       " 'parentHash': HexBytes('0x0000000000000000000000000000000000000000000000000000000000000000'),\n",
       " 'nonce': HexBytes('0x000000000000002a'),\n",
       " 'sha3Uncles': HexBytes('0x1dcc4de8dec75d7aab85b567b6ccd41ad312451b948a7413f0a142fd40d49347'),\n",
       " 'logs_bloom': 0,\n",
       " 'transactionsRoot': HexBytes('0x56e81f171bcc55a6ff8345e692c0f86e5b48e01b996cadc001622fb5e363b421'),\n",
       " 'receipts_root': '0x56e81f171bcc55a6ff8345e692c0f86e5b48e01b996cadc001622fb5e363b421',\n",
       " 'stateRoot': HexBytes('0xf1588db9a9f1ed91effabdec31f93cb4212b008c8b8ba047fd55fabebf6fd727'),\n",
       " 'miner': '0x0000000000000000000000000000000000000000',\n",
       " 'difficulty': 131072,\n",
       " 'totalDifficulty': 131072,\n",
       " 'size': 517,\n",
       " 'extraData': HexBytes('0x0000000000000000000000000000000000000000000000000000000000000000'),\n",
       " 'gasLimit': 30029122,\n",
       " 'gasUsed': 0,\n",
       " 'timestamp': 1642101638,\n",
       " 'transactions': [],\n",
       " 'uncles': [],\n",
       " 'baseFeePerGas': 1000000000})"
      ]
     },
     "execution_count": 9,
     "metadata": {},
     "output_type": "execute_result"
    }
   ],
   "source": [
    "w3.eth.get_block('latest')"
   ]
  },
  {
   "cell_type": "code",
   "execution_count": 10,
   "id": "6945af77",
   "metadata": {},
   "outputs": [],
   "source": [
    "tx_hash = w3.eth.send_transaction({\n",
    "   'from': w3.eth.accounts[0],\n",
    "   'to': w3.eth.accounts[1],\n",
    "   'value': w3.toWei(3, 'ether')\n",
    "})"
   ]
  },
  {
   "cell_type": "code",
   "execution_count": 11,
   "id": "94f12daf",
   "metadata": {},
   "outputs": [
    {
     "data": {
      "text/plain": [
       "AttributeDict({'transactionHash': HexBytes('0x9e473ea541a2df4b180a45585a7751e48a753f7ba6e5d46f35d59bff6046b4bb'),\n",
       " 'transactionIndex': 0,\n",
       " 'blockNumber': 1,\n",
       " 'blockHash': HexBytes('0xad1dc0a2241d6e02d1d4388ab84ef6c70ada9623312aff412f3ec5c26d1cf573'),\n",
       " 'cumulativeGasUsed': 21000,\n",
       " 'gasUsed': 21000,\n",
       " 'effectiveGasPrice': 1000000000,\n",
       " 'contractAddress': None,\n",
       " 'logs': [],\n",
       " 'type': '0x2',\n",
       " 'status': 1})"
      ]
     },
     "execution_count": 11,
     "metadata": {},
     "output_type": "execute_result"
    }
   ],
   "source": [
    "w3.eth.wait_for_transaction_receipt(tx_hash)"
   ]
  },
  {
   "cell_type": "code",
   "execution_count": 12,
   "id": "3a8718ff",
   "metadata": {},
   "outputs": [
    {
     "data": {
      "text/plain": [
       "AttributeDict({'type': '0x2',\n",
       " 'hash': HexBytes('0x9e473ea541a2df4b180a45585a7751e48a753f7ba6e5d46f35d59bff6046b4bb'),\n",
       " 'nonce': 0,\n",
       " 'blockHash': HexBytes('0xad1dc0a2241d6e02d1d4388ab84ef6c70ada9623312aff412f3ec5c26d1cf573'),\n",
       " 'blockNumber': 1,\n",
       " 'transactionIndex': 0,\n",
       " 'from': '0x7E5F4552091A69125d5DfCb7b8C2659029395Bdf',\n",
       " 'to': '0x2B5AD5c4795c026514f8317c7a215E218DcCD6cF',\n",
       " 'value': 3000000000000000000,\n",
       " 'gas': 121000,\n",
       " 'data': '0x',\n",
       " 'r': HexBytes('0x6ee7b2551baa2de937502e2286a6dca35164b5e9a4a7d4a6fff4c616e5f3e671'),\n",
       " 's': HexBytes('0x441615d3bde4467c387fd45455909fa243c4881d17c9fa83ccd2dc0e7eb5bb1d'),\n",
       " 'v': 0,\n",
       " 'chain_id': 131277322940537,\n",
       " 'maxFeePerGas': 1000000000,\n",
       " 'maxPriorityFeePerGas': 1000000000,\n",
       " 'accessList': [],\n",
       " 'gasPrice': 1000000000})"
      ]
     },
     "execution_count": 12,
     "metadata": {},
     "output_type": "execute_result"
    }
   ],
   "source": [
    "w3.eth.get_transaction(tx_hash)"
   ]
  },
  {
   "cell_type": "code",
   "execution_count": 13,
   "id": "4bfb6096",
   "metadata": {},
   "outputs": [
    {
     "data": {
      "text/plain": [
       "999996999979000000000000"
      ]
     },
     "execution_count": 13,
     "metadata": {},
     "output_type": "execute_result"
    }
   ],
   "source": [
    "w3.eth.get_balance(w3.eth.accounts[0])"
   ]
  },
  {
   "cell_type": "code",
   "execution_count": 14,
   "id": "919e7067",
   "metadata": {},
   "outputs": [
    {
     "data": {
      "text/plain": [
       "1000003000000000000000000"
      ]
     },
     "execution_count": 14,
     "metadata": {},
     "output_type": "execute_result"
    }
   ],
   "source": [
    "w3.eth.get_balance(w3.eth.accounts[1])"
   ]
  },
  {
   "cell_type": "code",
   "execution_count": 15,
   "id": "576389ef",
   "metadata": {},
   "outputs": [],
   "source": [
    "acct = w3.eth.account.create()"
   ]
  },
  {
   "cell_type": "code",
   "execution_count": 16,
   "id": "0ed54fa1",
   "metadata": {},
   "outputs": [
    {
     "data": {
      "text/plain": [
       "'0x5e3498ae7f558C16E4617d095bb56C7e63A95782'"
      ]
     },
     "execution_count": 16,
     "metadata": {},
     "output_type": "execute_result"
    }
   ],
   "source": [
    "acct.address"
   ]
  },
  {
   "cell_type": "code",
   "execution_count": 17,
   "id": "ec153e8c",
   "metadata": {},
   "outputs": [
    {
     "data": {
      "text/plain": [
       "HexBytes('0x4812975c8d91be9966c0dd34a82e36ada71f4fc93b6b18c70e616b66ed9f9751')"
      ]
     },
     "execution_count": 17,
     "metadata": {},
     "output_type": "execute_result"
    }
   ],
   "source": [
    "acct.key"
   ]
  },
  {
   "cell_type": "code",
   "execution_count": 18,
   "id": "0a36f07f",
   "metadata": {},
   "outputs": [],
   "source": [
    "w3 = Web3(Web3.EthereumTesterProvider())"
   ]
  },
  {
   "cell_type": "code",
   "execution_count": 19,
   "id": "9c6d2cfa",
   "metadata": {},
   "outputs": [
    {
     "data": {
      "text/plain": [
       "['0x7E5F4552091A69125d5DfCb7b8C2659029395Bdf',\n",
       " '0x2B5AD5c4795c026514f8317c7a215E218DcCD6cF',\n",
       " '0x6813Eb9362372EEF6200f3b1dbC3f819671cBA69',\n",
       " '0x1efF47bc3a10a45D4B230B5d10E37751FE6AA718',\n",
       " '0xe1AB8145F7E55DC933d51a18c793F901A3A0b276',\n",
       " '0xE57bFE9F44b819898F47BF37E5AF72a0783e1141',\n",
       " '0xd41c057fd1c78805AAC12B0A94a405c0461A6FBb',\n",
       " '0xF1F6619B38A98d6De0800F1DefC0a6399eB6d30C',\n",
       " '0xF7Edc8FA1eCc32967F827C9043FcAe6ba73afA5c',\n",
       " '0x4CCeBa2d7D2B4fdcE4304d3e09a1fea9fbEb1528']"
      ]
     },
     "execution_count": 19,
     "metadata": {},
     "output_type": "execute_result"
    }
   ],
   "source": [
    "w3.eth.accounts"
   ]
  },
  {
   "cell_type": "code",
   "execution_count": 20,
   "id": "1715b7ce",
   "metadata": {},
   "outputs": [],
   "source": [
    "acct_one = w3.eth.accounts[0]"
   ]
  },
  {
   "cell_type": "code",
   "execution_count": 21,
   "id": "54187a65",
   "metadata": {},
   "outputs": [
    {
     "data": {
      "text/plain": [
       "1000000000000000000000000"
      ]
     },
     "execution_count": 21,
     "metadata": {},
     "output_type": "execute_result"
    }
   ],
   "source": [
    "w3.eth.get_balance(acct_one)"
   ]
  },
  {
   "cell_type": "code",
   "execution_count": 22,
   "id": "2e59d7de",
   "metadata": {},
   "outputs": [],
   "source": [
    "acct_two = w3.eth.account.create()"
   ]
  },
  {
   "cell_type": "code",
   "execution_count": 23,
   "id": "dbbbeb64",
   "metadata": {},
   "outputs": [
    {
     "data": {
      "text/plain": [
       "'0x8331255928870410ba5c7182F83183c5BEc1d772'"
      ]
     },
     "execution_count": 23,
     "metadata": {},
     "output_type": "execute_result"
    }
   ],
   "source": [
    "acct_two.address"
   ]
  },
  {
   "cell_type": "code",
   "execution_count": 24,
   "id": "944dc361",
   "metadata": {},
   "outputs": [
    {
     "data": {
      "text/plain": [
       "HexBytes('0x735a7bb6e2cd4dc3c62674da2fbdb7d3540c3bdcc059c0bda5e2fa5f735821ef')"
      ]
     },
     "execution_count": 24,
     "metadata": {},
     "output_type": "execute_result"
    }
   ],
   "source": [
    "acct_two.key"
   ]
  },
  {
   "cell_type": "code",
   "execution_count": 25,
   "id": "3d58e865",
   "metadata": {},
   "outputs": [],
   "source": [
    "tx_hash = w3.eth.send_transaction({\n",
    "    'from': acct_one,\n",
    "    'to': acct_two.address,\n",
    "    'value': Web3.toWei(1, 'ether')\n",
    "  })"
   ]
  },
  {
   "cell_type": "code",
   "execution_count": 26,
   "id": "70dd5a6a",
   "metadata": {},
   "outputs": [],
   "source": [
    "tx = {\n",
    "          'to': acct_one,\n",
    "          'value': 10000000,\n",
    "          'gas': 21000,\n",
    "          'gasPrice': w3.eth.get_block('pending')['baseFeePerGas'],\n",
    "          'nonce': 0\n",
    "        }"
   ]
  },
  {
   "cell_type": "code",
   "execution_count": 27,
   "id": "574d2d1e",
   "metadata": {},
   "outputs": [],
   "source": [
    "signed = w3.eth.account.sign_transaction(tx, acct_two.key)"
   ]
  },
  {
   "cell_type": "code",
   "execution_count": 28,
   "id": "d3bcc7f2",
   "metadata": {},
   "outputs": [],
   "source": [
    "tx_hash = w3.eth.send_raw_transaction(signed.rawTransaction)"
   ]
  }
 ],
 "metadata": {
  "kernelspec": {
   "display_name": "Python 3 (ipykernel)",
   "language": "python",
   "name": "python3"
  },
  "language_info": {
   "codemirror_mode": {
    "name": "ipython",
    "version": 3
   },
   "file_extension": ".py",
   "mimetype": "text/x-python",
   "name": "python",
   "nbconvert_exporter": "python",
   "pygments_lexer": "ipython3",
   "version": "3.10.1"
  }
 },
 "nbformat": 4,
 "nbformat_minor": 5
}
